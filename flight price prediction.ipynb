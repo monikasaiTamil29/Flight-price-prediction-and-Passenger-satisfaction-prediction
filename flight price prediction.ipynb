{
 "cells": [
  {
   "cell_type": "code",
   "execution_count": null,
   "id": "6a1e0fd1",
   "metadata": {},
   "outputs": [],
   "source": [
    "import pandas as pd\n",
    "import numpy as np\n",
    "import matplotlib.pyplot as plt\n",
    "import seaborn as sns\n",
    "import seaborn as sns\n",
    "import matplotlib.pyplot as plt\n",
    "import warnings\n",
    "from sklearn.preprocessing import LabelEncoder\n",
    "warnings.filterwarnings(\"ignore\")\n"
   ]
  },
  {
   "cell_type": "code",
   "execution_count": null,
   "id": "49093421",
   "metadata": {},
   "outputs": [],
   "source": [
    "df = pd.read_csv(\"Flight_Price.csv\") \n",
    "df.head()"
   ]
  },
  {
   "cell_type": "code",
   "execution_count": null,
   "id": "1128d361",
   "metadata": {},
   "outputs": [],
   "source": [
    "df.info()"
   ]
  },
  {
   "cell_type": "code",
   "execution_count": null,
   "id": "63fee7bc",
   "metadata": {},
   "outputs": [],
   "source": [
    "df.shape\n",
    "\n"
   ]
  },
  {
   "cell_type": "code",
   "execution_count": null,
   "id": "723a0034",
   "metadata": {},
   "outputs": [],
   "source": [
    "df.describe()\n"
   ]
  },
  {
   "cell_type": "code",
   "execution_count": null,
   "id": "0d1ceb55",
   "metadata": {},
   "outputs": [],
   "source": [
    "df.isnull().sum()"
   ]
  },
  {
   "cell_type": "code",
   "execution_count": null,
   "id": "7e708e18",
   "metadata": {},
   "outputs": [],
   "source": [
    "\n",
    "df.isna().sum()"
   ]
  },
  {
   "cell_type": "code",
   "execution_count": null,
   "id": "832b7cd7",
   "metadata": {},
   "outputs": [],
   "source": [
    "df.dropna(inplace=True)\n"
   ]
  },
  {
   "cell_type": "code",
   "execution_count": null,
   "id": "3e7d746c",
   "metadata": {},
   "outputs": [],
   "source": [
    "\n",
    "\n",
    "# Step 2: Convert Date_of_Journey to Journey_day and Journey_month\n",
    "df[\"Journey_day\"] = pd.to_datetime(df[\"Date_of_Journey\"], format=\"%d/%m/%Y\").dt.day\n",
    "df[\"Journey_month\"] = pd.to_datetime(df[\"Date_of_Journey\"], format=\"%d/%m/%Y\").dt.month\n",
    "df.drop(\"Date_of_Journey\", axis=1, inplace=True)\n",
    "\n",
    "# Step 3: Convert Dep_Time into hour and minute\n",
    "df[\"Dep_hour\"] = pd.to_datetime(df[\"Dep_Time\"]).dt.hour\n",
    "df[\"Dep_minute\"] = pd.to_datetime(df[\"Dep_Time\"]).dt.minute\n",
    "df.drop(\"Dep_Time\", axis=1, inplace=True)\n",
    "\n",
    "# Step 4: Convert Arrival_Time into hour and minute\n",
    "df[\"Arrival_hour\"] = pd.to_datetime(df[\"Arrival_Time\"]).dt.hour\n",
    "df[\"Arrival_minute\"] = pd.to_datetime(df[\"Arrival_Time\"]).dt.minute\n",
    "df.drop(\"Arrival_Time\", axis=1, inplace=True)\n",
    "\n",
    "# Step 5: Convert Duration into total minutes\n",
    "def convert_duration_to_minutes(x):\n",
    "    x = x.strip()\n",
    "    if 'h' in x and 'm' in x:\n",
    "        h, m = x.split('h')\n",
    "        return int(h.strip()) * 60 + int(m.replace('m', '').strip())\n",
    "    elif 'h' in x:\n",
    "        return int(x.replace('h', '').strip()) * 60\n",
    "    elif 'm' in x:\n",
    "        return int(x.replace('m', '').strip())\n",
    "    return 0\n",
    "\n",
    "df[\"Duration_mins\"] = df[\"Duration\"].apply(convert_duration_to_minutes)\n",
    "df.drop(\"Duration\", axis=1, inplace=True)\n",
    "\n",
    "# Step 6: Label Encode Total_Stops\n",
    "le = LabelEncoder()\n",
    "df[\"Total_Stops\"] = le.fit_transform(df[\"Total_Stops\"])\n",
    "\n",
    "# Step 7: Drop Route column (too many unique text paths) or optionally encode it\n",
    "df.drop(\"Route\", axis=1, inplace=True)\n",
    "\n",
    "# Step 8: One-hot encode categorical columns\n",
    "df = pd.get_dummies(df, columns=[\"Airline\", \"Source\", \"Destination\", \"Additional_Info\"], drop_first=True)\n",
    "\n",
    "# Final check\n",
    "print(df.shape)\n",
    "print(df.head())\n"
   ]
  },
  {
   "cell_type": "code",
   "execution_count": null,
   "id": "57c672f1",
   "metadata": {},
   "outputs": [],
   "source": [
    "#1. Price Distribution\n",
    "\n",
    "\n",
    "plt.figure(figsize=(8, 5))\n",
    "sns.distplot(df['Price'], bins=50, kde=True, color='teal')\n",
    "plt.title('Distribution of Flight Prices')\n",
    "plt.xlabel('Price (INR)')\n",
    "plt.ylabel('Count')\n",
    "plt.show()\n"
   ]
  },
  {
   "cell_type": "code",
   "execution_count": null,
   "id": "622b1188",
   "metadata": {},
   "outputs": [],
   "source": [
    "#Price vs Total Stops\n",
    "plt.figure(figsize=(8, 5))\n",
    "sns.boxplot(x='Total_Stops', y='Price', data=df)\n",
    "plt.title('Flight Price vs Total Stops')\n",
    "plt.xlabel('Number of Stops')\n",
    "plt.ylabel('Price (INR)')\n",
    "plt.show()\n"
   ]
  },
  {
   "cell_type": "code",
   "execution_count": null,
   "id": "d020585b",
   "metadata": {},
   "outputs": [],
   "source": [
    "import pandas as pd\n",
    "import seaborn as sns\n",
    "import matplotlib.pyplot as plt\n",
    "\n",
    "# Load the CSV file into a DataFrame\n",
    "original_df = pd.read_csv('Flight_Price.csv')\n",
    "\n",
    "# Now plot Price vs Airline using the DataFrame\n",
    "plt.figure(figsize=(12, 6))\n",
    "sns.boxplot(x='Airline', y='Price', data=original_df)\n",
    "plt.xticks(rotation=45)\n",
    "plt.title('Flight Price by Airline')\n",
    "plt.ylabel('Price (INR)')\n",
    "plt.show()\n"
   ]
  },
  {
   "cell_type": "code",
   "execution_count": null,
   "id": "4093855e",
   "metadata": {},
   "outputs": [],
   "source": [
    "import matplotlib.pyplot as plt\n",
    "import seaborn as sns\n",
    "\n",
    "plt.figure(figsize=(12, 8))\n",
    "sns.heatmap(df.corr(), annot=True, cmap='coolwarm', fmt='.2f')\n",
    "plt.title('Correlation Matrix')\n",
    "plt.show()\n"
   ]
  },
  {
   "cell_type": "code",
   "execution_count": null,
   "id": "5aaebee3",
   "metadata": {},
   "outputs": [],
   "source": [
    "from sklearn.model_selection import train_test_split\n",
    "from sklearn.metrics import mean_squared_error, r2_score\n",
    "from sklearn.preprocessing import StandardScaler\n",
    "\n",
    "# Features and target\n",
    "X = df.drop(['Price'], axis=1)\n",
    "y = df['Price']\n",
    "\n",
    "# Train-test split\n",
    "X_train, X_test, y_train, y_test = train_test_split(X, y, test_size=0.2, random_state=42)\n",
    "\n",
    "# Scaling (for Linear Regression only)\n",
    "scaler = StandardScaler()\n",
    "X_train_scaled = scaler.fit_transform(X_train)\n",
    "X_test_scaled = scaler.transform(X_test)\n"
   ]
  },
  {
   "cell_type": "code",
   "execution_count": null,
   "id": "83dc9882",
   "metadata": {},
   "outputs": [],
   "source": [
    "from sklearn.linear_model import LinearRegression\n",
    "\n",
    "lr = LinearRegression()\n",
    "lr.fit(X_train_scaled, y_train)\n",
    "\n",
    "y_pred_lr = lr.predict(X_test_scaled)\n",
    "\n",
    "print(\"Linear Regression\")\n",
    "print(\"RMSE:\", mean_squared_error(y_test, y_pred_lr, squared=False))\n",
    "print(\"R2 Score:\", r2_score(y_test, y_pred_lr))\n"
   ]
  },
  {
   "cell_type": "code",
   "execution_count": null,
   "id": "afa6fe60",
   "metadata": {},
   "outputs": [],
   "source": [
    "pip install xgboost\n"
   ]
  },
  {
   "cell_type": "code",
   "execution_count": null,
   "id": "a28da432",
   "metadata": {},
   "outputs": [],
   "source": [
    "from xgboost import XGBRegressor\n",
    "\n",
    "xgb = XGBRegressor(n_estimators=100, learning_rate=0.1, random_state=42)\n",
    "xgb.fit(X_train, y_train)\n",
    "\n",
    "y_pred_xgb = xgb.predict(X_test)\n",
    "\n",
    "print(\"XGBoost\")\n",
    "print(\"RMSE:\", mean_squared_error(y_test, y_pred_xgb, squared=False))\n",
    "print(\"R2 Score:\", r2_score(y_test, y_pred_xgb))\n"
   ]
  },
  {
   "cell_type": "code",
   "execution_count": null,
   "id": "890f8687",
   "metadata": {},
   "outputs": [],
   "source": [
    "from sklearn.ensemble import RandomForestRegressor\n",
    "\n",
    "rf = RandomForestRegressor(n_estimators=100, random_state=42)\n",
    "rf.fit(X_train, y_train)\n",
    "\n",
    "y_pred_rf = rf.predict(X_test)\n",
    "\n",
    "print(\"Random Forest\")\n",
    "print(\"RMSE:\", mean_squared_error(y_test, y_pred_rf, squared=False))\n",
    "print(\"R2 Score:\", r2_score(y_test, y_pred_rf))\n"
   ]
  },
  {
   "cell_type": "code",
   "execution_count": null,
   "id": "c3bae4ef",
   "metadata": {},
   "outputs": [],
   "source": [
    "import matplotlib.pyplot as plt\n",
    "importances = rf.feature_importances_\n",
    "features = X.columns\n",
    "sorted_idx = importances.argsort()[::-1]\n",
    "\n",
    "plt.figure(figsize=(12, 6))\n",
    "plt.bar(range(len(importances)), importances[sorted_idx], align='center')\n",
    "plt.xticks(range(len(importances)), features[sorted_idx], rotation=90)\n",
    "plt.title(\"Feature Importance (Random Forest)\")\n",
    "plt.tight_layout()\n",
    "plt.show()\n"
   ]
  },
  {
   "cell_type": "code",
   "execution_count": null,
   "id": "27c9108e",
   "metadata": {},
   "outputs": [],
   "source": [
    "import pickle\n",
    "import os\n",
    "\n",
    "# Save Random Forest model\n",
    "with open(\"final_model.pkl\", \"wb\") as f:\n",
    "    pickle.dump(rf, f)\n",
    "\n",
    "# Save scaler (used for Linear Regression only)\n",
    "with open(\"scaler.pkl\", \"wb\") as f:\n",
    "    pickle.dump(scaler, f)\n",
    "\n",
    "# Save LabelEncoder (for Total_Stops)\n",
    "with open(\"label_encoder_total_stops.pkl\", \"wb\") as f:\n",
    "    pickle.dump(le, f)\n",
    "\n",
    "print(\"✅ Pickle files saved successfully.\")\n"
   ]
  },
  {
   "cell_type": "code",
   "execution_count": null,
   "id": "1f1c73c0",
   "metadata": {},
   "outputs": [],
   "source": [
    "import mlflow\n",
    "import os\n",
    "\n",
    "# Define a local path where MLflow can safely write\n",
    "mlflow_tracking_dir = os.path.abspath(\"mlruns\")  # or give a full valid path\n",
    "\n",
    "# Make sure the directory exists\n",
    "os.makedirs(mlflow_tracking_dir, exist_ok=True)\n",
    "\n",
    "# Set the MLflow tracking URI to local folder\n",
    "mlflow.set_tracking_uri(f\"file://{mlflow_tracking_dir}\")\n"
   ]
  },
  {
   "cell_type": "code",
   "execution_count": null,
   "id": "dd3f2fa4",
   "metadata": {},
   "outputs": [],
   "source": [
    "if mlflow.active_run():\n",
    "    mlflow.end_run()\n",
    "\n",
    "with mlflow.start_run(run_name=\"RandomForest_Local\"):\n",
    "    mlflow.log_param(\"n_estimators\", 100)\n",
    "    mlflow.log_param(\"random_state\", 42)\n",
    "\n",
    "    rmse_rf = mean_squared_error(y_test, y_pred_rf, squared=False)\n",
    "    r2_rf = r2_score(y_test, y_pred_rf)\n",
    "\n",
    "    mlflow.log_metric(\"rmse\", rmse_rf)\n",
    "    mlflow.log_metric(\"r2_score\", r2_rf)\n",
    "\n",
    "    mlflow.sklearn.log_model(rf, artifact_path=\"rf_model\")\n",
    "\n",
    "    print(f\"✅ Model logged. RMSE: {rmse_rf:.2f}, R²: {r2_rf:.2f}\")\n"
   ]
  },
  {
   "cell_type": "code",
   "execution_count": 39,
   "id": "ece86d6b",
   "metadata": {},
   "outputs": [],
   "source": [
    "import pickle\n",
    "\n",
    "with open(\"features.pkl\", \"wb\") as f:\n",
    "    pickle.dump(X.columns.tolist(), f)\n"
   ]
  }
 ],
 "metadata": {
  "kernelspec": {
   "display_name": "envpytorch",
   "language": "python",
   "name": "python3"
  },
  "language_info": {
   "codemirror_mode": {
    "name": "ipython",
    "version": 3
   },
   "file_extension": ".py",
   "mimetype": "text/x-python",
   "name": "python",
   "nbconvert_exporter": "python",
   "pygments_lexer": "ipython3",
   "version": "3.7.16"
  }
 },
 "nbformat": 4,
 "nbformat_minor": 5
}
